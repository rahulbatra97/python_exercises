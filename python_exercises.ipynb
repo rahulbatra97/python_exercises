{
 "cells": [
  {
   "cell_type": "code",
   "execution_count": 7,
   "metadata": {},
   "outputs": [
    {
     "name": "stdout",
     "output_type": "stream",
     "text": [
      "10\n"
     ]
    }
   ],
   "source": [
    "#random number generator \n",
    "import random\n",
    "def random_number():\n",
    "    x = random.randint(1,100)\n",
    "    return x\n",
    "print(random_number())\n",
    "\n"
   ]
  },
  {
   "cell_type": "code",
   "execution_count": 18,
   "metadata": {},
   "outputs": [
    {
     "name": "stdout",
     "output_type": "stream",
     "text": [
      "True\n"
     ]
    }
   ],
   "source": [
    "#Write a function named only_ints that takes two parameters. \n",
    "#Your function should return True if both parameters are integers, and False otherwise.\n",
    "def only_ints(param_1, param_2):\n",
    "    if type(param_1) == int and type(param_2) == int:\n",
    "        return True \n",
    "    else:\n",
    "        return False\n",
    "    \n",
    "print(only_ints(3, 4))"
   ]
  },
  {
   "cell_type": "code",
   "execution_count": 67,
   "metadata": {},
   "outputs": [
    {
     "name": "stdout",
     "output_type": "stream",
     "text": [
      "True\n"
     ]
    }
   ],
   "source": [
    "#Define a function named double_letters that takes a single parameter. The parameter is a string.\n",
    "#Your function must return True if there are two identical letters in a row in the string, and False otherwise.\n",
    "def double_letters(input_string):\n",
    "    for i in range(len(input_string)):\n",
    "        if input_string[i] == input_string[i-1]:\n",
    "            return True\n",
    "    \n",
    "    return False\n",
    "        \n",
    "print(double_letters(\"ella\"))\n",
    "    "
   ]
  },
  {
   "cell_type": "code",
   "execution_count": 77,
   "metadata": {},
   "outputs": [
    {
     "name": "stdout",
     "output_type": "stream",
     "text": [
      "R.E.S.P.E.C.T\n",
      "RESPECT\n"
     ]
    }
   ],
   "source": [
    "#Write a function named add_dots that takes a string and adds \".\" in between each letter.\n",
    "#For example, calling add_dots(\"test\") should return the string \"t.e.s.t\", and the reverse. \n",
    "def add_dots(input_string):\n",
    "    x = '.'.join(input_string)\n",
    "    return x\n",
    "\n",
    "def remove_dots(input_string):\n",
    "    x = input_string.replace('.', '')\n",
    "    return x\n",
    "\n",
    "print(add_dots('RESPECT'))\n",
    "print(remove_dots(add_dots('RESPECT')))"
   ]
  },
  {
   "cell_type": "code",
   "execution_count": 80,
   "metadata": {},
   "outputs": [
    {
     "name": "stdout",
     "output_type": "stream",
     "text": [
      "1\n"
     ]
    }
   ],
   "source": [
    "#Define a function named count that takes a single parameter. The parameter is a string. \n",
    "#The string will contain a single word divided into syllables by hyphens, such as these:\n",
    "def count(input_string):\n",
    "    x = input_string.count('-')\n",
    "    return x + 1 \n",
    "print(count('jack'))"
   ]
  },
  {
   "cell_type": "code",
   "execution_count": 89,
   "metadata": {},
   "outputs": [
    {
     "name": "stdout",
     "output_type": "stream",
     "text": [
      "True\n"
     ]
    }
   ],
   "source": [
    "#Write a function named is_anagram that takes two strings as its parameters. \n",
    "#Your function should return True if the strings are anagrams, and False otherwise.\n",
    "def is_anagram(input_1, input_2):\n",
    "    input_1 = input_1.lower()\n",
    "    input_2 = input_2.lower()\n",
    "    if sorted(input_1) == sorted(input_2):\n",
    "        return True\n",
    "    else:\n",
    "        return False\n",
    "\n",
    "print(is_anagram('boB', 'Obb'))"
   ]
  },
  {
   "cell_type": "code",
   "execution_count": 93,
   "metadata": {},
   "outputs": [
    {
     "name": "stdout",
     "output_type": "stream",
     "text": [
      "[1, 2, 3, 4]\n"
     ]
    }
   ],
   "source": [
    "#Write a function that takes a list of lists and flattens it into a one-dimensional list.\n",
    "#Name your function flatten. It should take a single parameter and return a list.\n",
    "def flatten(list_of_lists):\n",
    "    flattened_list = []\n",
    "    for x in list_of_lists:\n",
    "        for y in x:\n",
    "            flattened_list.append(y)\n",
    "    return flattened_list\n",
    "    \n",
    "print(flatten([[1,2], [3,4]]))\n"
   ]
  },
  {
   "cell_type": "code",
   "execution_count": 94,
   "metadata": {},
   "outputs": [
    {
     "name": "stdout",
     "output_type": "stream",
     "text": [
      "70\n"
     ]
    }
   ],
   "source": [
    "#Define a function named largest_difference that takes a list of numbers as its only parameter.\n",
    "#Your function should compute and return the difference between the largest and smallest number in the list.\n",
    "def largest_difference(list_of_numbers):\n",
    "    sorted_list = sorted(list_of_numbers)\n",
    "    difference = (sorted_list[-1] - sorted_list[0])\n",
    "    return(difference)\n",
    "\n",
    "print(largest_difference([2,4,6,2,34,21,72,50]))"
   ]
  },
  {
   "cell_type": "code",
   "execution_count": 97,
   "metadata": {},
   "outputs": [
    {
     "name": "stdout",
     "output_type": "stream",
     "text": [
      "False\n"
     ]
    }
   ],
   "source": [
    "#Define a function named div_3 that returns True if its single integer parameter is divisible by 3 and False otherwise.\n",
    "def div_3(input_num):\n",
    "    return input_num %3 == 0\n",
    "print(div_3(4))"
   ]
  },
  {
   "cell_type": "code",
   "execution_count": 102,
   "metadata": {},
   "outputs": [
    {
     "name": "stdout",
     "output_type": "stream",
     "text": [
      "False\n"
     ]
    }
   ],
   "source": [
    "#Write a function named palindrome that takes a single string as its parameter. \n",
    "#Your function should return True if the string is a palindrome, and False otherwise.\n",
    "def palindrome(input_string):\n",
    "    return input_string == input_string[::-1]\n",
    "\n",
    "print(palindrome('nna'))"
   ]
  },
  {
   "cell_type": "code",
   "execution_count": 3,
   "metadata": {},
   "outputs": [
    {
     "name": "stdout",
     "output_type": "stream",
     "text": [
      "(-1, 1)\n"
     ]
    }
   ],
   "source": [
    "#Challenge Up and down\n",
    "#Define a function named up_down that takes a single number as its parameter. Your function return a tuple containing two numbers; the first should be one lower than the parameter, and the second should be one higher.\n",
    "#For example, calling up_down(5) should return (4, 6).\n",
    "\n",
    "def up_down(input_num):\n",
    "    up = input_num+1\n",
    "    down = input_num-1\n",
    "    return (down, up)\n",
    "print(up_down(0))\n",
    "\n",
    "#Simpler\n",
    "def up_down(x):\n",
    "    return (x-1, x+1)\n"
   ]
  },
  {
   "cell_type": "code",
   "execution_count": 4,
   "metadata": {},
   "outputs": [
    {
     "name": "stdout",
     "output_type": "stream",
     "text": [
      "1\n"
     ]
    }
   ],
   "source": [
    "# analyze a binary string consisting of only zeros and ones. \n",
    "#Your code should find the biggest number of consecutive zeros in the string.\n",
    "\n",
    "def consecutive_zeros(input_string):\n",
    "    max_streak = 0\n",
    "    current_streak = 0\n",
    "\n",
    "    for _ in input_string:\n",
    "        if _ == \"0\":\n",
    "            current_streak +=1\n",
    "            if current_streak > max_streak:\n",
    "                max_streak = current_streak\n",
    "        elif _ == \"1\":\n",
    "            current_streak = 0\n",
    "        else:\n",
    "            if current_streak > max_streak:\n",
    "                max_streak = current_streak\n",
    "            current_streak == 0\n",
    "             \n",
    "    return max_streak\n",
    "\n",
    "print(consecutive_zeros(\"10101\"))"
   ]
  },
  {
   "cell_type": "code",
   "execution_count": 15,
   "metadata": {},
   "outputs": [
    {
     "name": "stdout",
     "output_type": "stream",
     "text": [
      "True\n"
     ]
    }
   ],
   "source": [
    "#Define a function named all_equal that takes a list and checks whether all elements in the list are the same.\n",
    "def all_equal(input_list):\n",
    "    if not input_list:\n",
    "        return True  # An empty list is considered to have all elements the same.\n",
    "    \n",
    "    first_element = input_list[0]\n",
    "    return all(element == first_element for element in input_list)\n",
    "print(all_equal([2,2,2]))\n",
    "\n",
    "#or\n",
    "\n",
    "def all_equal(items):\n",
    "    for item1 in items:\n",
    "        for item2 in items:\n",
    "            if item1 != item2:\n",
    "                return False\n",
    "    return True"
   ]
  },
  {
   "cell_type": "code",
   "execution_count": 18,
   "metadata": {},
   "outputs": [
    {
     "name": "stdout",
     "output_type": "stream",
     "text": [
      "True\n"
     ]
    }
   ],
   "source": [
    "def triple_and(param_1, param_2, param_3):\n",
    "    if param_1 == True and param_2 == True and param_3 == True:\n",
    "        return True \n",
    "    else:\n",
    "        return False\n",
    "   \n",
    "\n",
    "print(triple_and(True, True, True))\n",
    "\n",
    "#simpler version \n",
    "\n",
    "def triple_and(a, b, c):\n",
    "    return a and b and c"
   ]
  },
  {
   "cell_type": "code",
   "execution_count": 19,
   "metadata": {},
   "outputs": [
    {
     "name": "stdout",
     "output_type": "stream",
     "text": [
      "['1', '2', '3']\n"
     ]
    }
   ],
   "source": [
    "#Define a function named convert that takes a list of numbers as its only parameter\n",
    "#and returns a list of each number converted to a string.\n",
    "#What makes this tricky is that your function body must only contain a single line of code.\n",
    "#def convert(list):\n",
    "    return_list = []\n",
    "    for _ in list:\n",
    "        return_list.append(str(_))\n",
    "    return return_list\n",
    "print(convert([1,2,3]))\n",
    "\n",
    "\n"
   ]
  },
  {
   "cell_type": "code",
   "execution_count": 24,
   "metadata": {},
   "outputs": [
    {
     "name": "stdout",
     "output_type": "stream",
     "text": [
      "['1', '2', '3']\n"
     ]
    }
   ],
   "source": [
    "def convert(a_list):\n",
    "    return [ str(_) for _ in a_list]\n",
    "    \n",
    "print(convert([1,2,3]))\n"
   ]
  },
  {
   "cell_type": "code",
   "execution_count": 59,
   "metadata": {},
   "outputs": [
    {
     "name": "stdout",
     "output_type": "stream",
     "text": [
      "[0, 4, 1, 5, 2, 6, 3, 7]\n"
     ]
    }
   ],
   "source": [
    "#Define a function named zap. The function takes two parameters, a and b. These are lists.\n",
    "\n",
    "def zap(a,b):\n",
    "    result = []\n",
    "    for i in range(len(a)):\n",
    "        result.append(a[i])\n",
    "        result.append(b[i])\n",
    "    return result\n",
    "\n",
    "print(zap([0,1,2,3],[4,5,6,7]))"
   ]
  },
  {
   "cell_type": "code",
   "execution_count": 62,
   "metadata": {},
   "outputs": [],
   "source": [
    "# ugly but understandable solution\n",
    "def zap(a, b):\n",
    "    result = []\n",
    "    for i in range(len(a)):\n",
    "        item_from_a = a[i]\n",
    "        item_from_b = b[i]\n",
    "        tup = (item_from_a, item_from_b)\n",
    "        result.append(tup)\n",
    "    return result\n",
    "\n",
    "# concise solution with list comprehensions\n",
    "def zap(a, b):\n",
    "    return [(a[i], b[i]) for i in range(len(a))]"
   ]
  },
  {
   "cell_type": "code",
   "execution_count": 86,
   "metadata": {},
   "outputs": [
    {
     "name": "stdout",
     "output_type": "stream",
     "text": [
      "missing def\n"
     ]
    }
   ],
   "source": [
    "def validate(code): \n",
    "    if \"def\" not in code:\n",
    "        return(\"missing def\")\n",
    "    if \":\" not in code:\n",
    "        return(\"missing :\")\n",
    "    if \"(\" and \")\" not in code:\n",
    "        return(\"missing paren\")\n",
    "    if \"()\" not in code:\n",
    "        return(\"missing param\")\n",
    "    if \"(\" and \")\" not in code:\n",
    "        return(\"missing :\")\n",
    "    if \" \" and \" \" and \" \" and \" \" not in code:\n",
    "        return(\"missing indent\")\n",
    "    if \"validate\" not in code:\n",
    "        return(\"wrong name\")\n",
    "    if \"return\" not in code:\n",
    "        return(\"missing return\")\n",
    "    else: \n",
    "        return True \n",
    "    \n",
    "\n",
    "print(validate(zap([0,1,2,3],[4,5,6,7])))\n"
   ]
  },
  {
   "cell_type": "code",
   "execution_count": 96,
   "metadata": {},
   "outputs": [
    {
     "name": "stdout",
     "output_type": "stream",
     "text": [
      "False\n"
     ]
    }
   ],
   "source": [
    "def list_xor(n, list1, list2):\n",
    "    if n in list1 and n in list2:\n",
    "        return False\n",
    "    if n not in list1 and n not in list2:\n",
    "        return False \n",
    "    else: \n",
    "        return True\n",
    "    \n",
    "print(list_xor(7, [2, 2, 3], [2, 5, 6]))\n",
    "\n",
    "# the xor operator ^ returns true if ones of the conditions is met but not both (either or, but not both)\n",
    "# smart solution: uses the built-in xor operator ^\n",
    "def list_xor(n, list1, list2):\n",
    "    return (n in list1) ^ (n in list2)\n",
    "\n",
    "\n"
   ]
  },
  {
   "cell_type": "code",
   "execution_count": null,
   "metadata": {},
   "outputs": [],
   "source": [
    "#define a function that returns the number of arguments passed in the function \n",
    "def param_count(*args):\n",
    "    return(len(args))\n",
    " \n",
    "print(param_count(1,2,3,\"four\"))"
   ]
  }
 ],
 "metadata": {
  "kernelspec": {
   "display_name": "base",
   "language": "python",
   "name": "python3"
  },
  "language_info": {
   "codemirror_mode": {
    "name": "ipython",
    "version": 3
   },
   "file_extension": ".py",
   "mimetype": "text/x-python",
   "name": "python",
   "nbconvert_exporter": "python",
   "pygments_lexer": "ipython3",
   "version": "3.9.13"
  },
  "orig_nbformat": 4
 },
 "nbformat": 4,
 "nbformat_minor": 2
}
